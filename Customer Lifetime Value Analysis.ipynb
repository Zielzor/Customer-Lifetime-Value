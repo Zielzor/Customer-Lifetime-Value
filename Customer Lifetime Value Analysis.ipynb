{
 "metadata": {
  "language_info": {
   "codemirror_mode": {
    "name": "ipython",
    "version": 3
   },
   "file_extension": ".py",
   "mimetype": "text/x-python",
   "name": "python",
   "nbconvert_exporter": "python",
   "pygments_lexer": "ipython3",
   "version": "3.7.7-final"
  },
  "orig_nbformat": 2,
  "kernelspec": {
   "name": "python3",
   "display_name": "Python 3",
   "language": "python"
  }
 },
 "nbformat": 4,
 "nbformat_minor": 2,
 "cells": [
  {
   "cell_type": "code",
   "execution_count": 43,
   "metadata": {},
   "outputs": [],
   "source": [
    "# Impoeted modules\n",
    "import pandas as pd\n",
    "import matplotlib.pyplot as plt\n",
    "import datetime"
   ]
  },
  {
   "cell_type": "code",
   "execution_count": 45,
   "metadata": {},
   "outputs": [],
   "source": [
    "# created fucntions\n",
    "\n",
    "def groupby_mean(x):\n",
    "    return x.mean()\n",
    "\n",
    "def groupby_count(x):\n",
    "    return x.count()\n",
    "\n",
    "def purchase_duration(x):\n",
    "    return (x.max() - x.min()).days\n",
    "\n",
    "def avg_frequency(x):\n",
    "    ''' average time (days) between sales'''\n",
    "    return (x.max() - x.min()).days/x.count()\n",
    "\n",
    "    #adding __name__ so we can refer to it by single name\n",
    "\n",
    "groupby_mean.__name__ =  \"avg\"\n",
    "groupby_count.__name__ = \"count\"\n",
    "purchase_duration.__name__ = \"purch_dur\" #fightning strong urge to call it \"pur_dur\"....\n",
    "avg_frequency.__name__ = \"purch_freq\"\n",
    "\n"
   ]
  },
  {
   "cell_type": "code",
   "execution_count": 2,
   "metadata": {},
   "outputs": [
    {
     "output_type": "execute_result",
     "data": {
      "text/plain": [
       "  InvoiceNo StockCode                          Description  Quantity  \\\n",
       "0    536365    85123A   WHITE HANGING HEART T-LIGHT HOLDER         6   \n",
       "1    536365     71053                  WHITE METAL LANTERN         6   \n",
       "2    536365    84406B       CREAM CUPID HEARTS COAT HANGER         8   \n",
       "3    536365    84029G  KNITTED UNION FLAG HOT WATER BOTTLE         6   \n",
       "4    536365    84029E       RED WOOLLY HOTTIE WHITE HEART.         6   \n",
       "\n",
       "          InvoiceDate  UnitPrice  CustomerID         Country  \n",
       "0 2010-12-01 08:26:00       2.55     17850.0  United Kingdom  \n",
       "1 2010-12-01 08:26:00       3.39     17850.0  United Kingdom  \n",
       "2 2010-12-01 08:26:00       2.75     17850.0  United Kingdom  \n",
       "3 2010-12-01 08:26:00       3.39     17850.0  United Kingdom  \n",
       "4 2010-12-01 08:26:00       3.39     17850.0  United Kingdom  "
      ],
      "text/html": "<div>\n<style scoped>\n    .dataframe tbody tr th:only-of-type {\n        vertical-align: middle;\n    }\n\n    .dataframe tbody tr th {\n        vertical-align: top;\n    }\n\n    .dataframe thead th {\n        text-align: right;\n    }\n</style>\n<table border=\"1\" class=\"dataframe\">\n  <thead>\n    <tr style=\"text-align: right;\">\n      <th></th>\n      <th>InvoiceNo</th>\n      <th>StockCode</th>\n      <th>Description</th>\n      <th>Quantity</th>\n      <th>InvoiceDate</th>\n      <th>UnitPrice</th>\n      <th>CustomerID</th>\n      <th>Country</th>\n    </tr>\n  </thead>\n  <tbody>\n    <tr>\n      <th>0</th>\n      <td>536365</td>\n      <td>85123A</td>\n      <td>WHITE HANGING HEART T-LIGHT HOLDER</td>\n      <td>6</td>\n      <td>2010-12-01 08:26:00</td>\n      <td>2.55</td>\n      <td>17850.0</td>\n      <td>United Kingdom</td>\n    </tr>\n    <tr>\n      <th>1</th>\n      <td>536365</td>\n      <td>71053</td>\n      <td>WHITE METAL LANTERN</td>\n      <td>6</td>\n      <td>2010-12-01 08:26:00</td>\n      <td>3.39</td>\n      <td>17850.0</td>\n      <td>United Kingdom</td>\n    </tr>\n    <tr>\n      <th>2</th>\n      <td>536365</td>\n      <td>84406B</td>\n      <td>CREAM CUPID HEARTS COAT HANGER</td>\n      <td>8</td>\n      <td>2010-12-01 08:26:00</td>\n      <td>2.75</td>\n      <td>17850.0</td>\n      <td>United Kingdom</td>\n    </tr>\n    <tr>\n      <th>3</th>\n      <td>536365</td>\n      <td>84029G</td>\n      <td>KNITTED UNION FLAG HOT WATER BOTTLE</td>\n      <td>6</td>\n      <td>2010-12-01 08:26:00</td>\n      <td>3.39</td>\n      <td>17850.0</td>\n      <td>United Kingdom</td>\n    </tr>\n    <tr>\n      <th>4</th>\n      <td>536365</td>\n      <td>84029E</td>\n      <td>RED WOOLLY HOTTIE WHITE HEART.</td>\n      <td>6</td>\n      <td>2010-12-01 08:26:00</td>\n      <td>3.39</td>\n      <td>17850.0</td>\n      <td>United Kingdom</td>\n    </tr>\n  </tbody>\n</table>\n</div>"
     },
     "metadata": {},
     "execution_count": 2
    }
   ],
   "source": [
    "file_name = \"https://raw.githubusercontent.com/rajeevratan84/datascienceforbusiness/master/OnlineRetail.xlsx\"\n",
    "df = pd.read_excel(file_name, sheet_name='Online Retail')\n",
    "\n",
    "df.head()"
   ]
  },
  {
   "cell_type": "code",
   "execution_count": 3,
   "metadata": {},
   "outputs": [
    {
     "output_type": "execute_result",
     "data": {
      "text/plain": [
       "(541909, 8)"
      ]
     },
     "metadata": {},
     "execution_count": 3
    }
   ],
   "source": [
    "df.shape"
   ]
  },
  {
   "cell_type": "code",
   "execution_count": 4,
   "metadata": {},
   "outputs": [],
   "source": [
    "df = df.loc[df['Quantity'] > 0 ] #removing 0 quantities"
   ]
  },
  {
   "cell_type": "code",
   "execution_count": 5,
   "metadata": {},
   "outputs": [],
   "source": [
    "df = df[pd.notnull(df['CustomerID'])]"
   ]
  },
  {
   "source": [
    "# Data Cleaning and EDA "
   ],
   "cell_type": "markdown",
   "metadata": {}
  },
  {
   "cell_type": "code",
   "execution_count": 6,
   "metadata": {},
   "outputs": [
    {
     "output_type": "stream",
     "name": "stdout",
     "text": [
      "Date range: 2010-12-01 08:26:00 to 2011-12-09 12:50:00\n"
     ]
    }
   ],
   "source": [
    "print('Date range: %s to %s' % (df['InvoiceDate'].min(), df['InvoiceDate'].max()))"
   ]
  },
  {
   "cell_type": "code",
   "execution_count": 7,
   "metadata": {},
   "outputs": [],
   "source": [
    "df = df.loc[df[\"InvoiceDate\"] < '2011-12-01']"
   ]
  },
  {
   "cell_type": "code",
   "execution_count": 8,
   "metadata": {},
   "outputs": [],
   "source": [
    "df['Sales'] = df['Quantity'] * df['UnitPrice']"
   ]
  },
  {
   "cell_type": "code",
   "execution_count": 41,
   "metadata": {},
   "outputs": [],
   "source": [
    "orders = df.groupby(['CustomerID', 'InvoiceNo']).agg({\n",
    "    'Sales' : \"sum\",\n",
    "    'InvoiceDate' : 'max'\n",
    "})"
   ]
  },
  {
   "cell_type": "code",
   "execution_count": 42,
   "metadata": {},
   "outputs": [
    {
     "output_type": "execute_result",
     "data": {
      "text/plain": [
       "                         Sales         InvoiceDate\n",
       "CustomerID InvoiceNo                              \n",
       "12346.0    541431     77183.60 2011-01-18 10:01:00\n",
       "12347.0    537626       711.79 2010-12-07 14:57:00\n",
       "           542237       475.39 2011-01-26 14:30:00\n",
       "           549222       636.25 2011-04-07 10:43:00\n",
       "           556201       382.52 2011-06-09 13:01:00"
      ],
      "text/html": "<div>\n<style scoped>\n    .dataframe tbody tr th:only-of-type {\n        vertical-align: middle;\n    }\n\n    .dataframe tbody tr th {\n        vertical-align: top;\n    }\n\n    .dataframe thead th {\n        text-align: right;\n    }\n</style>\n<table border=\"1\" class=\"dataframe\">\n  <thead>\n    <tr style=\"text-align: right;\">\n      <th></th>\n      <th></th>\n      <th>Sales</th>\n      <th>InvoiceDate</th>\n    </tr>\n    <tr>\n      <th>CustomerID</th>\n      <th>InvoiceNo</th>\n      <th></th>\n      <th></th>\n    </tr>\n  </thead>\n  <tbody>\n    <tr>\n      <th>12346.0</th>\n      <th>541431</th>\n      <td>77183.60</td>\n      <td>2011-01-18 10:01:00</td>\n    </tr>\n    <tr>\n      <th rowspan=\"4\" valign=\"top\">12347.0</th>\n      <th>537626</th>\n      <td>711.79</td>\n      <td>2010-12-07 14:57:00</td>\n    </tr>\n    <tr>\n      <th>542237</th>\n      <td>475.39</td>\n      <td>2011-01-26 14:30:00</td>\n    </tr>\n    <tr>\n      <th>549222</th>\n      <td>636.25</td>\n      <td>2011-04-07 10:43:00</td>\n    </tr>\n    <tr>\n      <th>556201</th>\n      <td>382.52</td>\n      <td>2011-06-09 13:01:00</td>\n    </tr>\n  </tbody>\n</table>\n</div>"
     },
     "metadata": {},
     "execution_count": 42
    }
   ],
   "source": [
    "orders.head()"
   ]
  },
  {
   "cell_type": "code",
   "execution_count": 48,
   "metadata": {},
   "outputs": [],
   "source": [
    "summary = orders.reset_index().groupby('CustomerID').agg({\n",
    "    'Sales' : [\"min\",\"max\",\"sum\", groupby_mean, groupby_count],\n",
    "    'InvoiceDate' : [\"min\",\"max\",purchase_duration , avg_frequency]\n",
    "})"
   ]
  },
  {
   "cell_type": "code",
   "execution_count": 49,
   "metadata": {},
   "outputs": [
    {
     "output_type": "execute_result",
     "data": {
      "text/plain": [
       "               Sales                                          \\\n",
       "                 min       max       sum           avg count   \n",
       "CustomerID                                                     \n",
       "12346.0     77183.60  77183.60  77183.60  77183.600000   1.0   \n",
       "12347.0       382.52   1294.32   4085.18    680.863333   6.0   \n",
       "12348.0       227.44    892.80   1797.24    449.310000   4.0   \n",
       "12349.0      1757.55   1757.55   1757.55   1757.550000   1.0   \n",
       "12350.0       334.40    334.40    334.40    334.400000   1.0   \n",
       "\n",
       "                   InvoiceDate                                           \n",
       "                           min                 max purch_dur purch_freq  \n",
       "CustomerID                                                               \n",
       "12346.0    2011-01-18 10:01:00 2011-01-18 10:01:00         0        0.0  \n",
       "12347.0    2010-12-07 14:57:00 2011-10-31 12:25:00       327       54.5  \n",
       "12348.0    2010-12-16 19:09:00 2011-09-25 13:13:00       282       70.5  \n",
       "12349.0    2011-11-21 09:51:00 2011-11-21 09:51:00         0        0.0  \n",
       "12350.0    2011-02-02 16:01:00 2011-02-02 16:01:00         0        0.0  "
      ],
      "text/html": "<div>\n<style scoped>\n    .dataframe tbody tr th:only-of-type {\n        vertical-align: middle;\n    }\n\n    .dataframe tbody tr th {\n        vertical-align: top;\n    }\n\n    .dataframe thead tr th {\n        text-align: left;\n    }\n\n    .dataframe thead tr:last-of-type th {\n        text-align: right;\n    }\n</style>\n<table border=\"1\" class=\"dataframe\">\n  <thead>\n    <tr>\n      <th></th>\n      <th colspan=\"5\" halign=\"left\">Sales</th>\n      <th colspan=\"4\" halign=\"left\">InvoiceDate</th>\n    </tr>\n    <tr>\n      <th></th>\n      <th>min</th>\n      <th>max</th>\n      <th>sum</th>\n      <th>avg</th>\n      <th>count</th>\n      <th>min</th>\n      <th>max</th>\n      <th>purch_dur</th>\n      <th>purch_freq</th>\n    </tr>\n    <tr>\n      <th>CustomerID</th>\n      <th></th>\n      <th></th>\n      <th></th>\n      <th></th>\n      <th></th>\n      <th></th>\n      <th></th>\n      <th></th>\n      <th></th>\n    </tr>\n  </thead>\n  <tbody>\n    <tr>\n      <th>12346.0</th>\n      <td>77183.60</td>\n      <td>77183.60</td>\n      <td>77183.60</td>\n      <td>77183.600000</td>\n      <td>1.0</td>\n      <td>2011-01-18 10:01:00</td>\n      <td>2011-01-18 10:01:00</td>\n      <td>0</td>\n      <td>0.0</td>\n    </tr>\n    <tr>\n      <th>12347.0</th>\n      <td>382.52</td>\n      <td>1294.32</td>\n      <td>4085.18</td>\n      <td>680.863333</td>\n      <td>6.0</td>\n      <td>2010-12-07 14:57:00</td>\n      <td>2011-10-31 12:25:00</td>\n      <td>327</td>\n      <td>54.5</td>\n    </tr>\n    <tr>\n      <th>12348.0</th>\n      <td>227.44</td>\n      <td>892.80</td>\n      <td>1797.24</td>\n      <td>449.310000</td>\n      <td>4.0</td>\n      <td>2010-12-16 19:09:00</td>\n      <td>2011-09-25 13:13:00</td>\n      <td>282</td>\n      <td>70.5</td>\n    </tr>\n    <tr>\n      <th>12349.0</th>\n      <td>1757.55</td>\n      <td>1757.55</td>\n      <td>1757.55</td>\n      <td>1757.550000</td>\n      <td>1.0</td>\n      <td>2011-11-21 09:51:00</td>\n      <td>2011-11-21 09:51:00</td>\n      <td>0</td>\n      <td>0.0</td>\n    </tr>\n    <tr>\n      <th>12350.0</th>\n      <td>334.40</td>\n      <td>334.40</td>\n      <td>334.40</td>\n      <td>334.400000</td>\n      <td>1.0</td>\n      <td>2011-02-02 16:01:00</td>\n      <td>2011-02-02 16:01:00</td>\n      <td>0</td>\n      <td>0.0</td>\n    </tr>\n  </tbody>\n</table>\n</div>"
     },
     "metadata": {},
     "execution_count": 49
    }
   ],
   "source": [
    "summary.head()"
   ]
  },
  {
   "cell_type": "code",
   "execution_count": 50,
   "metadata": {},
   "outputs": [],
   "source": [
    "summary.columns = [\"_\".join(col).lower() for col in summary.columns]"
   ]
  },
  {
   "cell_type": "code",
   "execution_count": 52,
   "metadata": {},
   "outputs": [
    {
     "output_type": "execute_result",
     "data": {
      "text/plain": [
       "Index(['sales_min', 'sales_max', 'sales_sum', 'sales_avg', 'sales_count',\n",
       "       'invoicedate_min', 'invoicedate_max', 'invoicedate_purch_dur',\n",
       "       'invoicedate_purch_freq'],\n",
       "      dtype='object')"
      ]
     },
     "metadata": {},
     "execution_count": 52
    }
   ],
   "source": [
    "summary.columns"
   ]
  },
  {
   "cell_type": "code",
   "execution_count": null,
   "metadata": {},
   "outputs": [],
   "source": []
  }
 ]
}